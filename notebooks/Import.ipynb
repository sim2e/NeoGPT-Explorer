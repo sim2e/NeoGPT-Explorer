{
 "cells": [
  {
   "cell_type": "code",
   "execution_count": 1,
   "id": "2777ba36",
   "metadata": {},
   "outputs": [
    {
     "name": "stderr",
     "output_type": "stream",
     "text": [
      "/Users/kimnamju/Desktop/학교/4-1/소프트웨어종합설계(1)/NeoGPT-Explorer/venv/lib/python3.11/site-packages/tqdm/auto.py:21: TqdmWarning: IProgress not found. Please update jupyter and ipywidgets. See https://ipywidgets.readthedocs.io/en/stable/user_install.html\n",
      "  from .autonotebook import tqdm as notebook_tqdm\n"
     ]
    }
   ],
   "source": [
    "from graphdatascience import GraphDataScience\n",
    "import pandas as pd\n",
    "\n",
    "host = \"bolt://localhost:7687\"\n",
    "user = \"neo4j\"\n",
    "password = \"sojongabcd\"\n",
    "\n",
    "gds = GraphDataScience(host, auth=(user, password))"
   ]
  },
  {
   "cell_type": "markdown",
   "id": "b532c740",
   "metadata": {},
   "source": [
    "# Import Joseon Relation "
   ]
  },
  {
   "cell_type": "code",
   "execution_count": 5,
   "id": "65cc286a",
   "metadata": {},
   "outputs": [],
   "source": [
    "import json\n",
    "\n",
    "INPUT_FILE = '../data/sejong.json'\n",
    "\n",
    "with open(INPUT_FILE) as file:\n",
    "    nlp_output = json.load(file)"
   ]
  },
  {
   "cell_type": "code",
   "execution_count": 6,
   "id": "e60395e1",
   "metadata": {},
   "outputs": [
    {
     "data": {
      "text/html": [
       "<div>\n",
       "<style scoped>\n",
       "    .dataframe tbody tr th:only-of-type {\n",
       "        vertical-align: middle;\n",
       "    }\n",
       "\n",
       "    .dataframe tbody tr th {\n",
       "        vertical-align: top;\n",
       "    }\n",
       "\n",
       "    .dataframe thead th {\n",
       "        text-align: right;\n",
       "    }\n",
       "</style>\n",
       "<table border=\"1\" class=\"dataframe\">\n",
       "  <thead>\n",
       "    <tr style=\"text-align: right;\">\n",
       "      <th></th>\n",
       "    </tr>\n",
       "  </thead>\n",
       "  <tbody>\n",
       "  </tbody>\n",
       "</table>\n",
       "</div>"
      ],
      "text/plain": [
       "Empty DataFrame\n",
       "Columns: []\n",
       "Index: []"
      ]
     },
     "execution_count": 6,
     "metadata": {},
     "output_type": "execute_result"
    }
   ],
   "source": [
    "# Entity의 id(name) 중복되어서 안됨\n",
    "gds.run_cypher(\n",
    "    \"\"\"\n",
    "CREATE CONSTRAINT IF NOT EXISTS FOR (e:Entity) REQUIRE e.id IS UNIQUE;\n",
    "\"\"\"\n",
    ")"
   ]
  },
  {
   "cell_type": "code",
   "execution_count": 4,
   "id": "18fb9135",
   "metadata": {},
   "outputs": [],
   "source": [
    "nlp_import_query = \"\"\"\n",
    "UNWIND $data AS row\n",
    "FOREACH (entity in row.entity | \n",
    "  MERGE (e:Entity {id: entity.name})\n",
    "  ON CREATE SET e.type = entity.type,\n",
    "                e.uri = entity.uri\n",
    ")\n",
    "WITH row\n",
    "UNWIND row.fact AS fact\n",
    "  WITH fact\n",
    "  MERGE (source:Entity {id: fact.source.name})\n",
    "  ON CREATE SET source.type = fact.source.type\n",
    "  MERGE (target:Entity {id: fact.target.name})\n",
    "  ON CREATE SET target.type = fact.target.type\n",
    "  MERGE (source)-[:RELATIONSHIP {type: toUpper(replace(fact.relationship,' ','_'))}]-(target)\n",
    "\"\"\"\n",
    "\n",
    "# MERGE (source)-[:RELATIONSHIP]-(r:Relationship {type: toUpper(replace(fact.relationship,' ','_'))})-[:RELATIONSHIP]-(target)\n",
    "\n",
    "batch_step = 30\n",
    "\n",
    "for offset in range(0, len(nlp_output), batch_step):\n",
    "    batch = nlp_output[offset : offset + batch_step]\n",
    "    gds.run_cypher(nlp_import_query, {\"data\": batch})"
   ]
  },
  {
   "cell_type": "code",
   "execution_count": null,
   "id": "27dd5241",
   "metadata": {},
   "outputs": [],
   "source": []
  }
 ],
 "metadata": {
  "kernelspec": {
   "display_name": "Python 3",
   "language": "python",
   "name": "python3"
  },
  "language_info": {
   "codemirror_mode": {
    "name": "ipython",
    "version": 3
   },
   "file_extension": ".py",
   "mimetype": "text/x-python",
   "name": "python",
   "nbconvert_exporter": "python",
   "pygments_lexer": "ipython3",
   "version": "3.11.2"
  }
 },
 "nbformat": 4,
 "nbformat_minor": 5
}
